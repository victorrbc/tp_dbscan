{
 "cells": [
  {
   "cell_type": "markdown",
   "id": "41e1974b-b702-4c94-9096-43fc8a12f5f8",
   "metadata": {},
   "source": [
    "# DB SCAN - Reverse pedagogy\n",
    "Giuliano RICCARDI - Victor ROBIC"
   ]
  },
  {
   "cell_type": "markdown",
   "id": "64452aec",
   "metadata": {},
   "source": [
    "## 1. Intro\n",
    "**DBSCAN** stands for \"**Density-Based Spatial Clustering of Applications with Noise**\". It is a clustering algorithm that identifies clusters by taking into account the density of the data points in space. This allows for a more flexible clustering that perfoms better than other algorithms when dealing with nested data. Furthermore, DBSCAN also handles exceptionally well outliers and noise in data since it only affects a point to a cluster if it is within a dense region. \n",
    "\n",
    "Just like K-Means algorithm, DBSCAN uses a distance metric in its execution. Because of this, it is **essential** for us to work with **scaled data** so all the features studied are treated as equally important. Also, this algorithm eliminates the need of specifying before hand the amount of clusters we want, DBSCAN **automatically detects** the optimum amount of clusters for its given parameters.\n",
    "\n",
    "DBSCAN can still perform well identifying clusters and outliers when working with multiple dimensions, making it an even more appealing solution for multidimensional problems.\n",
    "\n",
    "<u>A little bit of history</u>: DBSCAN algorithm was created in 1996 by Martin Ester, Hans-Peter Kriegel, Jörg Sander and Xiawei Xu. \n",
    "\n",
    "**Clustering**: a technique in unsupervised machine learning that involves grouping a set of observations in such a way that oservations in the same group (cluster) are more similar to each other than to those in other groups. The goal being to discover natural groupings within the studied data.\n",
    "\n",
    "**Nested data**: said of data when clusters are wrap around one another.\n",
    "\n",
    "Example:\n",
    "\n",
    "![Nested Data](./img/3.png)\n",
    "\n"
   ]
  },
  {
   "cell_type": "markdown",
   "id": "824028db",
   "metadata": {},
   "source": [
    "## 2. Theory\n",
    "\n",
    "To better understand how the DBSCAN algorithm works, let us start with the definitions of the important notions linked to it.\n",
    "\n",
    "**Epsilon**: the radius of the neighboorhood around a point. It defines the maximum distance (usually Euclidean distance) at which a point will be considered the neighboor to another one.\n",
    "\n",
    "**MinPts**: the minimum amount of points needed to form a dense region.\n",
    "\n",
    "**Dense Region**: a region containing at least MinPts within it.\n",
    "\n",
    "**Sparse Region**: said of a region that contains points but not enough to be considered a Dense Region.\n",
    "\n",
    "**Core Point**: said of a data point if there is at least a minimum number of points (MinPts) within a radius Epsilon around it.   \n",
    "\n",
    "**Border Point**: said of a data point if the point is not a Core Point but lies within a radius Epsilon of a Core Point. \n",
    "\n",
    "**Noise Point**: said of a data point if it is neither a Core nor a Border Point. They are considered the outliers and do not belong to any cluster.\n",
    "\n",
    "![Different Kind of Points](./img/4.png)"
   ]
  },
  {
   "cell_type": "markdown",
   "id": "b13c3b8d",
   "metadata": {},
   "source": [
    "## 3. Algorithm Steps\n",
    "\n",
    "1. Select a point randomly\n",
    "2. Retrieve all points within an **Epsilon** distance of this point\n",
    "3. If the point is a **Core Point**, a cluster is formed. If it isn't a Core Point it is labeled as **Noise**\n",
    "4. Iterate through the cluster adding any point within Epsilon distance of a Core Point to the cluster\n",
    "5. **Repeat** until all points have been processed\n",
    "\n",
    "Video Explanation by : **StatQuest with Josh Starmer**\n",
    "\n",
    "![Gif Illustration for DBSCAN](./img/5.gif)\n",
    "\n",
    "Full video at: https://www.youtube.com/watch?v=RDZUdRSDOok\n",
    "\n",
    "Notes: \n",
    "\n",
    "We can say that Core Points **extend** the clusters since we will assign every point within Epsilon distance of it to the cluster it belongs to, whereas the Border Points can only be **assigned** to clusters.\n",
    "\n",
    "Cluster creation is done in **sequence**, this means that if a border point is within Epsilon distance of a Core Point from cluster 1 and a Core Point from cluster 2, it will be assigned to the cluster that the algorithm **first** iterated through."
   ]
  },
  {
   "cell_type": "markdown",
   "id": "70a66666-4c79-4213-8edd-f94c84f52b1c",
   "metadata": {},
   "source": [
    "## Lab"
   ]
  },
  {
   "cell_type": "code",
   "execution_count": 1,
   "id": "a25bb0f8-c167-4939-9106-9bba9f359973",
   "metadata": {},
   "outputs": [],
   "source": [
    "from PIL import Image\n",
    "import numpy as np\n",
    "image = Image.open('img/butterfly.jpeg')"
   ]
  },
  {
   "cell_type": "code",
   "execution_count": 2,
   "id": "0c48d0fb-75e9-457b-a87d-5a7f2c5e8f08",
   "metadata": {},
   "outputs": [],
   "source": [
    "height = int(image.height/2)\n",
    "width = int(image.width/2)"
   ]
  },
  {
   "cell_type": "code",
   "execution_count": 3,
   "id": "4bbeb5e5-3989-4361-9228-9bc116978b5f",
   "metadata": {},
   "outputs": [],
   "source": [
    "image.resize((width,height)).save('img/butterfly_resized.jpeg')"
   ]
  },
  {
   "cell_type": "code",
   "execution_count": 4,
   "id": "17551683-06ad-4ffb-84ee-8332b4c3f5dc",
   "metadata": {},
   "outputs": [
    {
     "data": {
      "text/plain": [
       "False"
      ]
     },
     "execution_count": 4,
     "metadata": {},
     "output_type": "execute_result"
    }
   ],
   "source": [
    "from matplotlib import image\n",
    "import cv2\n",
    "I = image.imread('img/butterfly.jpeg',)/255\n",
    "np.isnan(I).any()"
   ]
  },
  {
   "cell_type": "code",
   "execution_count": 5,
   "id": "fd728431-919d-49cb-af5d-61ee5e096466",
   "metadata": {},
   "outputs": [],
   "source": [
    "#my_image=cv2.imread('img/bateau_resized.jpeg', cv2.IMREAD_GRAYSCALE)\n",
    "#my_image.shape"
   ]
  },
  {
   "cell_type": "code",
   "execution_count": 6,
   "id": "d436468f-11e6-48ed-a8ef-f956b2695458",
   "metadata": {},
   "outputs": [
    {
     "name": "stderr",
     "output_type": "stream",
     "text": [
      "/var/folders/db/tl_jqtf15mx_t5hg0zwn60qm0000gn/T/ipykernel_78373/4212157255.py:3: RuntimeWarning: invalid value encountered in divide\n",
      "  f = (I[:,:,1]-I[:,:,0])/(I[:,:,1]+I[:,:,0])\n"
     ]
    }
   ],
   "source": [
    "\n",
    "[M,N]=I.shape[:2]\n",
    "# NGRD - normalized green-red difference (NDVI inspired)\n",
    "f = (I[:,:,1]-I[:,:,0])/(I[:,:,1]+I[:,:,0])\n",
    "f = 0.5*(f+1)"
   ]
  },
  {
   "cell_type": "code",
   "execution_count": 7,
   "id": "1713b733-f129-434e-bb65-a8c92ebc2688",
   "metadata": {},
   "outputs": [
    {
     "data": {
      "text/plain": [
       "False"
      ]
     },
     "execution_count": 7,
     "metadata": {},
     "output_type": "execute_result"
    }
   ],
   "source": [
    "f=np.nan_to_num(f)\n",
    "np.isnan(f).any()"
   ]
  },
  {
   "cell_type": "code",
   "execution_count": null,
   "id": "807a7adb-275a-4404-8061-4375148c2399",
   "metadata": {},
   "outputs": [],
   "source": [
    "from sklearn.cluster import DBSCAN\n",
    "\n",
    "k=0\n",
    "X = np.zeros([M*N,2])\n",
    "for i in range(M):    \n",
    "    for j in range(N):        \n",
    "        X[k,:]=[I[i,j,2],f[i,j]]\n",
    "        k= k+1\n",
    "\n",
    "dbscan = DBSCAN(eps=0.0001, min_samples=5).fit(X)\n",
    "labels = dbscan.labels_\n",
    "L = np.reshape(labels+1,[M,N])/2"
   ]
  },
  {
   "cell_type": "code",
   "execution_count": null,
   "id": "84929193-a791-4339-8f4b-6f1141e195fc",
   "metadata": {},
   "outputs": [],
   "source": [
    "len(np.unique(labels))"
   ]
  },
  {
   "cell_type": "code",
   "execution_count": null,
   "id": "09241ca1-cb73-4be5-991b-687747bf13c8",
   "metadata": {},
   "outputs": [],
   "source": [
    "import matplotlib.pyplot as plt\n",
    "\n",
    "plt.subplot(2,3,4)\n",
    "plt.imshow(L,cmap='rainbow_r') \n",
    "plt.xticks(ticks=[])\n",
    "plt.yticks(ticks=[])\n",
    "plt.title('DBSCAN');"
   ]
  },
  {
   "cell_type": "code",
   "execution_count": null,
   "id": "0001fea6-bb8c-42d6-a76e-978dd9149387",
   "metadata": {},
   "outputs": [],
   "source": [
    "from sklearn.cluster import KMeans\n",
    "\n",
    "kmeans = KMeans(n_clusters=5).fit(X)\n",
    "labels = kmeans.labels_\n",
    "L = np.reshape(labels+1,[M,N])/2"
   ]
  },
  {
   "cell_type": "code",
   "execution_count": null,
   "id": "86c3d9b5-bf93-4261-b50c-c6c65414d6b2",
   "metadata": {},
   "outputs": [],
   "source": [
    "import matplotlib.pyplot as plt\n",
    "\n",
    "plt.subplot(2,3,4)\n",
    "plt.imshow(L,cmap='rainbow_r') \n",
    "plt.xticks(ticks=[])\n",
    "plt.yticks(ticks=[])\n",
    "plt.title('DBSCAN');"
   ]
  },
  {
   "cell_type": "markdown",
   "id": "7bf1ae52-11af-4d8f-ab8c-8b3ca1a319a4",
   "metadata": {},
   "source": [
    "## Sources\n",
    "[DBSCAN, a density-based algorithm for discovering clusters](https://cdn.aaai.org/KDD/1996/KDD96-037.pdf?source=post_page---------------------------)\n",
    "\n",
    "[Video : Clustering with DBSCAN, clearly explained](https://youtu.be/RDZUdRSDOok?si=CPiHvumMMTC0OkmW)"
   ]
  }
 ],
 "metadata": {
  "kernelspec": {
   "display_name": "Python 3 (ipykernel)",
   "language": "python",
   "name": "python3"
  },
  "language_info": {
   "codemirror_mode": {
    "name": "ipython",
    "version": 3
   },
   "file_extension": ".py",
   "mimetype": "text/x-python",
   "name": "python",
   "nbconvert_exporter": "python",
   "pygments_lexer": "ipython3",
   "version": "3.9.19"
  }
 },
 "nbformat": 4,
 "nbformat_minor": 5
}
