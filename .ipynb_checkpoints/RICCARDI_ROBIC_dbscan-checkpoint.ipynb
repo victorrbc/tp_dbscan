{
 "cells": [
  {
   "cell_type": "markdown",
   "id": "41e1974b-b702-4c94-9096-43fc8a12f5f8",
   "metadata": {},
   "source": [
    "# DB SCAN - Reverse pedagogy\n",
    "Giuliano RICCARDI - Victor ROBIC"
   ]
  },
  {
   "cell_type": "markdown",
   "id": "64452aec",
   "metadata": {},
   "source": [
    "## 1. Intro\n",
    "**DBSCAN** stands for \"**Density-Based Spatial Clustering of Applications with Noise**\". It is a clustering algorithm that identifies clusters by taking into account the density of the data points in space. This allows for a more flexible clustering that perfoms better than other algorithms when dealing with nested data. Furthermore, DBSCAN also handles exceptionally well outliers and noise in data since it only affects a point to a cluster if it is within a dense region. \n",
    "\n",
    "Just like K-Means algorithm, DBSCAN uses a distance metric in its execution. Because of this, it is **essential** for us to work with **scaled data** so all the features studied are treated as equally important. Also, this algorithm eliminates the need of specifying before hand the amount of clusters we want, DBSCAN **automatically detects** the optimum amount of clusters for its given parameters.\n",
    "\n",
    "DBSCAN can still perform well identifying clusters and outliers when working with multiple dimensions, making it an even more appealing solution for multidimensional problems.\n",
    "\n",
    "<u>A little bit of history</u>: DBSCAN algorithm was created in 1996 by Martin Ester, Hans-Peter Kriegel, Jörg Sander and Xiawei Xu. \n",
    "\n",
    "**Clustering**: a technique in unsupervised machine learning that involves grouping a set of observations in such a way that oservations in the same group (cluster) are more similar to each other than to those in other groups. The goal being to discover natural groupings within the studied data.\n",
    "\n",
    "**Nested data**: said of data when clusters are wrap around one another.\n",
    "\n",
    "Example:\n",
    "\n",
    "![Nested Data](./img/3.png)\n",
    "\n"
   ]
  },
  {
   "cell_type": "markdown",
   "id": "824028db",
   "metadata": {},
   "source": [
    "## 2. Theory\n",
    "\n",
    "To better understand how the DBSCAN algorithm works, let us start with the definitions of the important notions linked to it.\n",
    "\n",
    "**Epsilon**: the radius of the neighboorhood around a point. It defines the maximum distance (usually Euclidean distance) at which a point will be considered the neighboor to another one.\n",
    "\n",
    "**MinPts**: the minimum amount of points needed to form a dense region.\n",
    "\n",
    "**Dense Region**: a region containing at least MinPts within it.\n",
    "\n",
    "**Sparse Region**: said of a region that contains points but not enough to be considered a Dense Region.\n",
    "\n",
    "**Core Point**: said of a data point if there is at least a minimum number of points (MinPts) within a radius Epsilon around it.   \n",
    "\n",
    "**Border Point**: said of a data point if the point is not a Core Point but lies within a radius Epsilon of a Core Point. \n",
    "\n",
    "**Noise Point**: said of a data point if it is neither a Core nor a Border Point. They are considered the outliers and do not belong to any cluster.\n",
    "\n",
    "![Different Kind of Points](./img/4.png)"
   ]
  },
  {
   "cell_type": "markdown",
   "id": "b13c3b8d",
   "metadata": {},
   "source": [
    "## 3. Algorithm Steps\n",
    "\n",
    "1. Select a point randomly\n",
    "2. Retrieve all points within an **Epsilon** distance of this point\n",
    "3. If the point is a **Core Point**, a cluster is formed. If it isn't a Core Point it is labeled as **Noise**\n",
    "4. Iterate through the cluster adding any point within Epsilon distance of a Core Point to the cluster\n",
    "5. **Repeat** until all points have been processed\n",
    "\n",
    "Video Explanation by : **StatQuest with Josh Starmer**\n",
    "\n",
    "![Gif Illustration for DBSCAN](./img/5.gif)\n",
    "\n",
    "Full video at: https://www.youtube.com/watch?v=RDZUdRSDOok\n",
    "\n",
    "Notes: \n",
    "\n",
    "We can say that Core Points **extend** the clusters since we will assign every point within Epsilon distance of it to the cluster it belongs to, whereas the Border Points can only be **assigned** to clusters.\n",
    "\n",
    "Cluster creation is done in **sequence**, this means that if a border point is within Epsilon distance of a Core Point from cluster 1 and a Core Point from cluster 2, it will be assigned to the cluster that the algorithm **first** iterated through."
   ]
  },
  {
   "cell_type": "markdown",
   "id": "70a66666-4c79-4213-8edd-f94c84f52b1c",
   "metadata": {},
   "source": [
    "## Lab"
   ]
  },
  {
   "cell_type": "code",
   "execution_count": 1,
   "id": "a25bb0f8-c167-4939-9106-9bba9f359973",
   "metadata": {},
   "outputs": [],
   "source": [
    "from PIL import Image\n",
    "\n",
    "image = Image.open('img/bateau.jpeg')"
   ]
  },
  {
   "cell_type": "code",
   "execution_count": 68,
   "id": "0c48d0fb-75e9-457b-a87d-5a7f2c5e8f08",
   "metadata": {},
   "outputs": [],
   "source": [
    "height = int(image.height/4)\n",
    "width = int(image.width/4)"
   ]
  },
  {
   "cell_type": "code",
   "execution_count": 69,
   "id": "4bbeb5e5-3989-4361-9228-9bc116978b5f",
   "metadata": {},
   "outputs": [],
   "source": [
    "image.resize((width,height)).save('img/bateau_resized.jpeg')"
   ]
  },
  {
   "cell_type": "code",
   "execution_count": 72,
   "id": "17551683-06ad-4ffb-84ee-8332b4c3f5dc",
   "metadata": {},
   "outputs": [],
   "source": [
    "from matplotlib import image\n",
    "\n",
    "I = image.imread('img/bateau_resized.jpeg')/255"
   ]
  },
  {
   "cell_type": "code",
   "execution_count": 79,
   "id": "807a7adb-275a-4404-8061-4375148c2399",
   "metadata": {},
   "outputs": [
    {
     "name": "stdout",
     "output_type": "stream",
     "text": [
      "[[[0.81568627 0.81568627 0.84705882]\n",
      "  [0.81568627 0.81568627 0.84705882]\n",
      "  [0.81568627 0.81568627 0.84705882]\n",
      "  ...\n",
      "  [0.20392157 0.35686275 0.5254902 ]\n",
      "  [0.20392157 0.35686275 0.5254902 ]\n",
      "  [0.20392157 0.35686275 0.5254902 ]]\n",
      "\n",
      " [[0.81568627 0.81568627 0.84705882]\n",
      "  [0.81568627 0.81568627 0.84705882]\n",
      "  [0.81568627 0.81568627 0.84705882]\n",
      "  ...\n",
      "  [0.20784314 0.36078431 0.52941176]\n",
      "  [0.20784314 0.36078431 0.52941176]\n",
      "  [0.20784314 0.36078431 0.52941176]]\n",
      "\n",
      " [[0.80392157 0.81568627 0.84313725]\n",
      "  [0.80392157 0.81568627 0.84313725]\n",
      "  [0.80392157 0.81568627 0.84313725]\n",
      "  ...\n",
      "  [0.21176471 0.36470588 0.53333333]\n",
      "  [0.21176471 0.36470588 0.53333333]\n",
      "  [0.21176471 0.36470588 0.53333333]]\n",
      "\n",
      " ...\n",
      "\n",
      " [[0.37254902 0.52156863 0.59607843]\n",
      "  [0.3254902  0.4745098  0.54901961]\n",
      "  [0.24705882 0.39215686 0.46666667]\n",
      "  ...\n",
      "  [0.28235294 0.41568627 0.52156863]\n",
      "  [0.29411765 0.41568627 0.5254902 ]\n",
      "  [0.28235294 0.40392157 0.51372549]]\n",
      "\n",
      " [[0.14117647 0.28627451 0.36078431]\n",
      "  [0.14901961 0.29411765 0.36470588]\n",
      "  [0.10980392 0.25490196 0.3254902 ]\n",
      "  ...\n",
      "  [0.38431373 0.51764706 0.61568627]\n",
      "  [0.36078431 0.49411765 0.59215686]\n",
      "  [0.31764706 0.45098039 0.54901961]]\n",
      "\n",
      " [[0.38431373 0.52156863 0.59607843]\n",
      "  [0.43529412 0.57254902 0.64705882]\n",
      "  [0.43529412 0.57254902 0.64705882]\n",
      "  ...\n",
      "  [0.28627451 0.42745098 0.51372549]\n",
      "  [0.28235294 0.42352941 0.51764706]\n",
      "  [0.25882353 0.4        0.49411765]]]\n"
     ]
    }
   ],
   "source": [
    "print(I)"
   ]
  },
  {
   "cell_type": "markdown",
   "id": "7bf1ae52-11af-4d8f-ab8c-8b3ca1a319a4",
   "metadata": {},
   "source": [
    "## Sources\n",
    "[DBSCAN, a density-based algorithm for discovering clusters](https://cdn.aaai.org/KDD/1996/KDD96-037.pdf?source=post_page---------------------------)\n",
    "\n",
    "[Video : Clustering with DBSCAN, clearly explained](https://youtu.be/RDZUdRSDOok?si=CPiHvumMMTC0OkmW)"
   ]
  }
 ],
 "metadata": {
  "kernelspec": {
   "display_name": "Python 3 (ipykernel)",
   "language": "python",
   "name": "python3"
  },
  "language_info": {
   "codemirror_mode": {
    "name": "ipython",
    "version": 3
   },
   "file_extension": ".py",
   "mimetype": "text/x-python",
   "name": "python",
   "nbconvert_exporter": "python",
   "pygments_lexer": "ipython3",
   "version": "3.10.14"
  }
 },
 "nbformat": 4,
 "nbformat_minor": 5
}
