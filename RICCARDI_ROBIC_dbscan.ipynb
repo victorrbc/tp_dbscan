{
 "cells": [
  {
   "cell_type": "markdown",
   "id": "41e1974b-b702-4c94-9096-43fc8a12f5f8",
   "metadata": {},
   "source": [
    "# DB SCAN - Reverse pedagogy\n",
    "Giuliano RICCARDI - Victor ROBIC"
   ]
  },
  {
   "attachments": {},
   "cell_type": "markdown",
   "id": "de9e8381-1ebd-45a5-aea5-336167f9539c",
   "metadata": {
    "jp-MarkdownHeadingCollapsed": true
   },
   "source": [
    "## Course\n",
    "### General introduction\n",
    "DBSCAN is an unsupervised algorithm created in 1996 by Martin Ester, Hans-Peter Kriegel, Jörg Sander and Xiawei Xu. Its full name is \"Density-Based Spatial Clustering of Applications with Noise\" and it is based on the study of the density of the different points to create clusters.\n",
    "\n",
    "### What ?\n",
    "As for a lot of other unsupervised algorithms, the DBSCAN is used to create clusters from unlabeled data by taking into account the proximity of the points compared to each others to analyse the density.\n",
    " \n",
    "### Why ?\n",
    "DBSCAN algorithm have been created to group data into different clusters as a human could do. Indeed, K-means can sometimes create clusters that not correspond to the reality as we can see in the following image.\n",
    "![The problem of K-means algorithm](./img/1.png)\n",
    "In reality, if a human wants to analyse the previous image, it will certainly do the following clustering : \n",
    "![The human analyse](./img/2.png)\n",
    "\n",
    "That's why the DBSCAN algorithm have been created, to allow a better clustering when the analyse of density is important.\n",
    "\n",
    "### How ?\n",
    "To do this type of clustering, we study the number of neighboors of each points. Depending of its number, we define if it is a core point, or a non-core point and then, we create the cluster by grouping the close core points and non-core points. If non-core points are not close to a core-point, it will stay as an outlier without any cluster (dark points in the previous image).\n",
    "\n",
    "### Theoretical details\n"
   ]
  },
  {
   "cell_type": "markdown",
   "id": "70a66666-4c79-4213-8edd-f94c84f52b1c",
   "metadata": {},
   "source": [
    "## Lab"
   ]
  },
  {
   "cell_type": "markdown",
   "id": "7bf1ae52-11af-4d8f-ab8c-8b3ca1a319a4",
   "metadata": {},
   "source": [
    "## Sources\n",
    "[DBSCAN, a density-based algorithm for discovering clusters](https://cdn.aaai.org/KDD/1996/KDD96-037.pdf?source=post_page---------------------------)\n",
    "\n",
    "[Video : Clustering with DBSCAN, clearly explained](https://youtu.be/RDZUdRSDOok?si=CPiHvumMMTC0OkmW)"
   ]
  }
 ],
 "metadata": {
  "kernelspec": {
   "display_name": "Python 3 (ipykernel)",
   "language": "python",
   "name": "python3"
  },
  "language_info": {
   "codemirror_mode": {
    "name": "ipython",
    "version": 3
   },
   "file_extension": ".py",
   "mimetype": "text/x-python",
   "name": "python",
   "nbconvert_exporter": "python",
   "pygments_lexer": "ipython3",
   "version": "3.9.19"
  }
 },
 "nbformat": 4,
 "nbformat_minor": 5
}
