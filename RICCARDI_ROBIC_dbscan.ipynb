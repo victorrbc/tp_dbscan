{
 "cells": [
  {
   "cell_type": "markdown",
   "id": "41e1974b-b702-4c94-9096-43fc8a12f5f8",
   "metadata": {},
   "source": [
    "# DB SCAN - Reverse pedagogy\n",
    "Giuliano RICCARDI - Victor ROBIC"
   ]
  },
  {
   "attachments": {},
   "cell_type": "markdown",
   "id": "de9e8381-1ebd-45a5-aea5-336167f9539c",
   "metadata": {
    "jp-MarkdownHeadingCollapsed": true
   },
   "source": [
    "## Course\n",
    "### General introduction\n",
    "DBSCAN is an unsupervised algorithm created in 1996 by Martin Ester, Hans-Peter Kriegel, Jörg Sander and Xiawei Xu. Its full name is \"Density-Based Spatial Clustering of Applications with Noise\" and it is based on the study of the density of the different points to create clusters.\n",
    "\n",
    "### What ?\n",
    "As for a lot of other unsupervised algorithms, the DBSCAN is used to create clusters from unlabeled data by taking into account the proximity of the points compared to each others to analyse the density.\n",
    " \n",
    "### Why ?\n",
    "DBSCAN algorithm have been created to group data into different clusters as a human could do. Indeed, K-means can sometimes create clusters that not correspond to the reality as we can see in the following image.\n",
    "![The problem of K-means algorithm](./img/1.png)\n",
    "In reality, if a human wants to analyse the previous image, it will certainly do the following clustering : \n",
    "![The human analyse](./img/2.png)\n",
    "\n",
    "That's why the DBSCAN algorithm have been created, to allow a better clustering when the analyse of density is important.\n",
    "\n",
    "### How ?\n",
    "To do this type of clustering, we study the number of neighboors of each points. Depending of its number, we define if it is a core point, or a non-core point and then, we create the cluster by grouping the close core points and non-core points. If non-core points are not close to a core-point, it will stay as an outlier without any cluster (dark points in the previous image).\n",
    "\n",
    "### Theoretical details\n",
    "\n"
   ]
  },
  {
   "cell_type": "markdown",
   "id": "64452aec",
   "metadata": {},
   "source": [
    "## 1. Intro\n",
    "**DBSCAN** stands for \"**Density-Based Spatial Clustering of Applications with Noise**\". It is a clustering algorithm that identifies clusters by taking into account the density of the data points in space. This allows for a more flexible clustering that perfoms better than other algorithms when dealing with nested data. Furthermore, DBSCAN also handles exceptionally well outliers and noise in data since it only affects a point to a cluster if it is within a dense region. \n",
    "\n",
    "Just like K-Means algorithm, DBSCAN uses a distance metric in its execution. Because of this, it is **essential** for us to work with **scaled data** so all the features studied are treated as equally important. Also, this algorithm eliminates the need of specifying before hand the amount of clusters we want, DBSCAN **automatically detects** the optimum amount of clusters for its given parameters.\n",
    "\n",
    "DBSCAN can still perform well identifying clusters and outliers when working with multiple dimensions, making it an even more appealing solution for multidimensional problems.\n",
    "\n",
    "**Clustering**: a technique in unsupervised machine learning that involves grouping a set of observations in such a way that oservations in the same group (cluster) are more similar to each other than to those in other groups. The goal being to discover natural groupings within the studied data.\n",
    "\n",
    "**Nested data**: said of data when clusters are wrap around one another.\n",
    "\n",
    "Example:\n",
    "\n",
    "![Nested Data](./img/3.png)\n",
    "\n"
   ]
  },
  {
   "cell_type": "markdown",
   "id": "824028db",
   "metadata": {},
   "source": [
    "## 2. Theory\n",
    "\n",
    "To better understand how the DBSCAN algorithm works, let us start with the definitions of the important notions linked to it.\n",
    "\n",
    "**Epsilon**: the radius of the neighboorhood around a point. It defines the maximum distance at which a point will be considered the neighboor to another one.\n",
    "\n",
    "**MinPts**: the minimum amount of points needed to form a dense region.\n",
    "\n",
    "**Dense Region**: a region containing at least MinPts within it.\n",
    "\n",
    "**Sparse Region**: said of a region that contains points but not enough to be considered a Dense Region.\n",
    "\n",
    "**Core Point**: said of a data point if there is at least a minimum number of points (MinPts) within a radius Epsilon around it.   \n",
    "\n",
    "**Border Point**: said of a data point if the point is not a Core Point but lies within a radius Epsilon of a Core Point. \n",
    "\n",
    "**Noise Point**: said of a data point if it is neither a Core nor a Border Point. They are considered the outliers and do not belong to any cluster.\n",
    "\n",
    "![Different Kind of Points](./img/4.png)"
   ]
  },
  {
   "cell_type": "markdown",
   "id": "b13c3b8d",
   "metadata": {},
   "source": [
    "## 3. Algorithm Steps\n",
    "\n",
    "1. Select a point randomly\n",
    "2. Retrieve all points within an **Epsilon** distance of this point\n",
    "3. If the point is a **Core Point**, a cluster is formed. If it isn't a Core Point it is labeled as **Noise**\n",
    "4. Iterate through the cluster adding any point within Epsilon distance of a Core Point to the cluster\n",
    "5. **Repeat** until all points have been processed\n",
    "\n",
    "Notes: \n",
    "\n",
    "We can say that Core Points **extend** the clusters since we will assign every point within Epsilon distance of it to the cluster it belongs to, whereas the Border Points can only be **assigned** to clusters.\n",
    "\n",
    "Cluster creation is done in **sequence**, this means that if a border point is within Epsilon distance of a Core Point from cluster 1 and a Core Point from cluster 2, it will be assigned to the cluster that the algorithm **first** iterated through."
   ]
  },
  {
   "cell_type": "markdown",
   "id": "70a66666-4c79-4213-8edd-f94c84f52b1c",
   "metadata": {},
   "source": [
    "## Lab"
   ]
  },
  {
   "cell_type": "markdown",
   "id": "7bf1ae52-11af-4d8f-ab8c-8b3ca1a319a4",
   "metadata": {},
   "source": [
    "## Sources\n",
    "[DBSCAN, a density-based algorithm for discovering clusters](https://cdn.aaai.org/KDD/1996/KDD96-037.pdf?source=post_page---------------------------)\n",
    "\n",
    "[Video : Clustering with DBSCAN, clearly explained](https://youtu.be/RDZUdRSDOok?si=CPiHvumMMTC0OkmW)"
   ]
  }
 ],
 "metadata": {
  "kernelspec": {
   "display_name": "Python 3 (ipykernel)",
   "language": "python",
   "name": "python3"
  },
  "language_info": {
   "codemirror_mode": {
    "name": "ipython",
    "version": 3
   },
   "file_extension": ".py",
   "mimetype": "text/x-python",
   "name": "python",
   "nbconvert_exporter": "python",
   "pygments_lexer": "ipython3",
   "version": "3.9.19"
  }
 },
 "nbformat": 4,
 "nbformat_minor": 5
}
